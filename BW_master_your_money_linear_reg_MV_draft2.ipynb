{
  "nbformat": 4,
  "nbformat_minor": 0,
  "metadata": {
    "kernelspec": {
      "display_name": "conda_python3",
      "language": "python",
      "name": "conda_python3"
    },
    "language_info": {
      "codemirror_mode": {
        "name": "ipython",
        "version": 3
      },
      "file_extension": ".py",
      "mimetype": "text/x-python",
      "name": "python",
      "nbconvert_exporter": "python",
      "pygments_lexer": "ipython3",
      "version": "3.6.5"
    },
    "colab": {
      "name": "BW_master_your_money_linear_reg_MV_draft2.ipynb",
      "version": "0.3.2",
      "provenance": [],
      "collapsed_sections": []
    }
  },
  "cells": [
    {
      "cell_type": "code",
      "metadata": {
        "id": "GW67XuECbVtU",
        "colab_type": "code",
        "colab": {}
      },
      "source": [
        "# MultiVariate Linear Regression for Build Week 30Jul2019\n",
        "url = 'https://raw.githubusercontent.com/master-your-money/Data-Science-Nayan/master/bls_bw_mym_tts.csv'"
      ],
      "execution_count": 0,
      "outputs": []
    },
    {
      "cell_type": "code",
      "metadata": {
        "id": "YwZAPWfRbVty",
        "colab_type": "code",
        "colab": {}
      },
      "source": [
        "import pandas as pd\n",
        "import numpy as np\n",
        "from sklearn.model_selection import train_test_split\n",
        "from sklearn.linear_model import LinearRegression\n",
        "from sklearn.metrics import mean_absolute_error, mean_squared_error, r2_score\n",
        "from sklearn.model_selection import train_test_split\n",
        "import statsmodels.api as sm"
      ],
      "execution_count": 0,
      "outputs": []
    },
    {
      "cell_type": "code",
      "metadata": {
        "id": "VCOcFEdHbVt6",
        "colab_type": "code",
        "outputId": "1f332fc2-613c-4397-8ebc-ef4f3bd42feb",
        "colab": {
          "base_uri": "https://localhost:8080/",
          "height": 238
        }
      },
      "source": [
        "df = pd.read_csv(url) \n",
        "'''Reference URL From Above'''\n",
        "\n",
        "df.head()"
      ],
      "execution_count": 4,
      "outputs": [
        {
          "output_type": "execute_result",
          "data": {
            "text/html": [
              "<div>\n",
              "<style scoped>\n",
              "    .dataframe tbody tr th:only-of-type {\n",
              "        vertical-align: middle;\n",
              "    }\n",
              "\n",
              "    .dataframe tbody tr th {\n",
              "        vertical-align: top;\n",
              "    }\n",
              "\n",
              "    .dataframe thead th {\n",
              "        text-align: right;\n",
              "    }\n",
              "</style>\n",
              "<table border=\"1\" class=\"dataframe\">\n",
              "  <thead>\n",
              "    <tr style=\"text-align: right;\">\n",
              "      <th></th>\n",
              "      <th>Unnamed: 0</th>\n",
              "      <th>Unnamed: 0.1</th>\n",
              "      <th>Unnamed: 0.1.1</th>\n",
              "      <th>NEWID</th>\n",
              "      <th>Total expenses</th>\n",
              "      <th>Entertainment</th>\n",
              "      <th>Total Transportation cost</th>\n",
              "      <th>Total Housing</th>\n",
              "      <th>Total Food</th>\n",
              "      <th>Income After Taxes</th>\n",
              "      <th>Luxury expenses</th>\n",
              "      <th>Necessities</th>\n",
              "      <th>50%</th>\n",
              "      <th>30%</th>\n",
              "      <th>Income minus total expenses</th>\n",
              "      <th>possible savings</th>\n",
              "      <th>20%</th>\n",
              "      <th>50%_delta</th>\n",
              "      <th>30%_delta</th>\n",
              "      <th>20%_delta</th>\n",
              "    </tr>\n",
              "  </thead>\n",
              "  <tbody>\n",
              "    <tr>\n",
              "      <th>0</th>\n",
              "      <td>0</td>\n",
              "      <td>0</td>\n",
              "      <td>0</td>\n",
              "      <td>3566504</td>\n",
              "      <td>11869.75</td>\n",
              "      <td>42.0</td>\n",
              "      <td>3771.0</td>\n",
              "      <td>3739.00</td>\n",
              "      <td>1690.0</td>\n",
              "      <td>90691.9</td>\n",
              "      <td>2627.75</td>\n",
              "      <td>9200.00</td>\n",
              "      <td>0.405769</td>\n",
              "      <td>0.115898</td>\n",
              "      <td>10803.225</td>\n",
              "      <td>3601.075000</td>\n",
              "      <td>0.476480</td>\n",
              "      <td>-0.094231</td>\n",
              "      <td>-0.184102</td>\n",
              "      <td>0.276480</td>\n",
              "    </tr>\n",
              "    <tr>\n",
              "      <th>1</th>\n",
              "      <td>1</td>\n",
              "      <td>1</td>\n",
              "      <td>1</td>\n",
              "      <td>3566514</td>\n",
              "      <td>7753.00</td>\n",
              "      <td>465.0</td>\n",
              "      <td>772.0</td>\n",
              "      <td>3689.00</td>\n",
              "      <td>1365.0</td>\n",
              "      <td>63421.0</td>\n",
              "      <td>1462.00</td>\n",
              "      <td>5826.00</td>\n",
              "      <td>0.367449</td>\n",
              "      <td>0.092209</td>\n",
              "      <td>8102.250</td>\n",
              "      <td>2700.750000</td>\n",
              "      <td>0.511014</td>\n",
              "      <td>-0.132551</td>\n",
              "      <td>-0.207791</td>\n",
              "      <td>0.311014</td>\n",
              "    </tr>\n",
              "    <tr>\n",
              "      <th>2</th>\n",
              "      <td>2</td>\n",
              "      <td>2</td>\n",
              "      <td>2</td>\n",
              "      <td>3566534</td>\n",
              "      <td>77432.75</td>\n",
              "      <td>4191.0</td>\n",
              "      <td>5536.0</td>\n",
              "      <td>24224.75</td>\n",
              "      <td>3931.0</td>\n",
              "      <td>-191620.6</td>\n",
              "      <td>39550.00</td>\n",
              "      <td>33691.75</td>\n",
              "      <td>-0.703301</td>\n",
              "      <td>-0.825590</td>\n",
              "      <td>-125337.900</td>\n",
              "      <td>-41779.300000</td>\n",
              "      <td>2.616376</td>\n",
              "      <td>-1.203301</td>\n",
              "      <td>-1.125590</td>\n",
              "      <td>2.416376</td>\n",
              "    </tr>\n",
              "    <tr>\n",
              "      <th>3</th>\n",
              "      <td>3</td>\n",
              "      <td>3</td>\n",
              "      <td>3</td>\n",
              "      <td>3566544</td>\n",
              "      <td>16488.75</td>\n",
              "      <td>1151.0</td>\n",
              "      <td>3351.0</td>\n",
              "      <td>2593.00</td>\n",
              "      <td>3640.0</td>\n",
              "      <td>136908.0</td>\n",
              "      <td>5753.75</td>\n",
              "      <td>9584.00</td>\n",
              "      <td>0.280013</td>\n",
              "      <td>0.168106</td>\n",
              "      <td>17738.250</td>\n",
              "      <td>5912.750000</td>\n",
              "      <td>0.518253</td>\n",
              "      <td>-0.219987</td>\n",
              "      <td>-0.131894</td>\n",
              "      <td>0.318253</td>\n",
              "    </tr>\n",
              "    <tr>\n",
              "      <th>4</th>\n",
              "      <td>4</td>\n",
              "      <td>4</td>\n",
              "      <td>4</td>\n",
              "      <td>3566624</td>\n",
              "      <td>8518.30</td>\n",
              "      <td>0.0</td>\n",
              "      <td>2805.0</td>\n",
              "      <td>2733.50</td>\n",
              "      <td>1885.0</td>\n",
              "      <td>54347.4</td>\n",
              "      <td>1094.80</td>\n",
              "      <td>7423.50</td>\n",
              "      <td>0.546374</td>\n",
              "      <td>0.080578</td>\n",
              "      <td>5068.550</td>\n",
              "      <td>1689.516667</td>\n",
              "      <td>0.373048</td>\n",
              "      <td>0.046374</td>\n",
              "      <td>-0.219422</td>\n",
              "      <td>0.173048</td>\n",
              "    </tr>\n",
              "  </tbody>\n",
              "</table>\n",
              "</div>"
            ],
            "text/plain": [
              "   Unnamed: 0  Unnamed: 0.1  Unnamed: 0.1.1  ...  50%_delta  30%_delta  20%_delta\n",
              "0           0             0               0  ...  -0.094231  -0.184102   0.276480\n",
              "1           1             1               1  ...  -0.132551  -0.207791   0.311014\n",
              "2           2             2               2  ...  -1.203301  -1.125590   2.416376\n",
              "3           3             3               3  ...  -0.219987  -0.131894   0.318253\n",
              "4           4             4               4  ...   0.046374  -0.219422   0.173048\n",
              "\n",
              "[5 rows x 20 columns]"
            ]
          },
          "metadata": {
            "tags": []
          },
          "execution_count": 4
        }
      ]
    },
    {
      "cell_type": "code",
      "metadata": {
        "id": "BRDvTV5lbVuS",
        "colab_type": "code",
        "outputId": "74c3f8c1-48f0-4a1d-f651-33bc1c519e4f",
        "colab": {
          "base_uri": "https://localhost:8080/",
          "height": 119
        }
      },
      "source": [
        "df['Necessities'] = (df['Total Housing'] + df['Total Food'] + df['Total Transportation cost'])\n",
        "\n",
        "df['Necessities'].head()"
      ],
      "execution_count": 5,
      "outputs": [
        {
          "output_type": "execute_result",
          "data": {
            "text/plain": [
              "0     9200.00\n",
              "1     5826.00\n",
              "2    33691.75\n",
              "3     9584.00\n",
              "4     7423.50\n",
              "Name: Necessities, dtype: float64"
            ]
          },
          "metadata": {
            "tags": []
          },
          "execution_count": 5
        }
      ]
    },
    {
      "cell_type": "code",
      "metadata": {
        "id": "ClklqSjtbVur",
        "colab_type": "code",
        "outputId": "4304ce2e-d434-46ba-c407-c3421af5ab97",
        "colab": {
          "base_uri": "https://localhost:8080/",
          "height": 119
        }
      },
      "source": [
        "df['50%'] = (df['Necessities']/3) / ((df['Income After Taxes'])/12)\n",
        "\n",
        "df['50%'].head()"
      ],
      "execution_count": 6,
      "outputs": [
        {
          "output_type": "execute_result",
          "data": {
            "text/plain": [
              "0    0.405769\n",
              "1    0.367449\n",
              "2   -0.703301\n",
              "3    0.280013\n",
              "4    0.546374\n",
              "Name: 50%, dtype: float64"
            ]
          },
          "metadata": {
            "tags": []
          },
          "execution_count": 6
        }
      ]
    },
    {
      "cell_type": "code",
      "metadata": {
        "id": "y4X1t_bfbVu8",
        "colab_type": "code",
        "outputId": "312da3e2-734a-43ea-f987-54974df723c8",
        "colab": {
          "base_uri": "https://localhost:8080/",
          "height": 119
        }
      },
      "source": [
        "df['30%'] = ((df['Luxury expenses'] + df['Entertainment']) / 3) / ((df['Income After Taxes'])/12)\n",
        "\n",
        "df['30%'].head()"
      ],
      "execution_count": 7,
      "outputs": [
        {
          "output_type": "execute_result",
          "data": {
            "text/plain": [
              "0    0.117750\n",
              "1    0.121537\n",
              "2   -0.913075\n",
              "3    0.201734\n",
              "4    0.080578\n",
              "Name: 30%, dtype: float64"
            ]
          },
          "metadata": {
            "tags": []
          },
          "execution_count": 7
        }
      ]
    },
    {
      "cell_type": "code",
      "metadata": {
        "id": "_DeqIMqnbVv9",
        "colab_type": "code",
        "outputId": "5ea950c8-c124-4697-d352-f4e7ade4a1ab",
        "colab": {
          "base_uri": "https://localhost:8080/",
          "height": 119
        }
      },
      "source": [
        "df['20%'] = ((df['possible savings'])/3) / (df['Income After Taxes'] / 12)\n",
        "\n",
        "df['20%'].head()"
      ],
      "execution_count": 8,
      "outputs": [
        {
          "output_type": "execute_result",
          "data": {
            "text/plain": [
              "0    0.158827\n",
              "1    0.170338\n",
              "2    0.872125\n",
              "3    0.172751\n",
              "4    0.124349\n",
              "Name: 20%, dtype: float64"
            ]
          },
          "metadata": {
            "tags": []
          },
          "execution_count": 8
        }
      ]
    },
    {
      "cell_type": "code",
      "metadata": {
        "id": "0zZG7jopbVwF",
        "colab_type": "code",
        "outputId": "990211f1-b506-4f46-e99d-f205f19da520",
        "colab": {
          "base_uri": "https://localhost:8080/",
          "height": 238
        }
      },
      "source": [
        "df.head()"
      ],
      "execution_count": 9,
      "outputs": [
        {
          "output_type": "execute_result",
          "data": {
            "text/html": [
              "<div>\n",
              "<style scoped>\n",
              "    .dataframe tbody tr th:only-of-type {\n",
              "        vertical-align: middle;\n",
              "    }\n",
              "\n",
              "    .dataframe tbody tr th {\n",
              "        vertical-align: top;\n",
              "    }\n",
              "\n",
              "    .dataframe thead th {\n",
              "        text-align: right;\n",
              "    }\n",
              "</style>\n",
              "<table border=\"1\" class=\"dataframe\">\n",
              "  <thead>\n",
              "    <tr style=\"text-align: right;\">\n",
              "      <th></th>\n",
              "      <th>Unnamed: 0</th>\n",
              "      <th>Unnamed: 0.1</th>\n",
              "      <th>Unnamed: 0.1.1</th>\n",
              "      <th>NEWID</th>\n",
              "      <th>Total expenses</th>\n",
              "      <th>Entertainment</th>\n",
              "      <th>Total Transportation cost</th>\n",
              "      <th>Total Housing</th>\n",
              "      <th>Total Food</th>\n",
              "      <th>Income After Taxes</th>\n",
              "      <th>Luxury expenses</th>\n",
              "      <th>Necessities</th>\n",
              "      <th>50%</th>\n",
              "      <th>30%</th>\n",
              "      <th>Income minus total expenses</th>\n",
              "      <th>possible savings</th>\n",
              "      <th>20%</th>\n",
              "      <th>50%_delta</th>\n",
              "      <th>30%_delta</th>\n",
              "      <th>20%_delta</th>\n",
              "    </tr>\n",
              "  </thead>\n",
              "  <tbody>\n",
              "    <tr>\n",
              "      <th>0</th>\n",
              "      <td>0</td>\n",
              "      <td>0</td>\n",
              "      <td>0</td>\n",
              "      <td>3566504</td>\n",
              "      <td>11869.75</td>\n",
              "      <td>42.0</td>\n",
              "      <td>3771.0</td>\n",
              "      <td>3739.00</td>\n",
              "      <td>1690.0</td>\n",
              "      <td>90691.9</td>\n",
              "      <td>2627.75</td>\n",
              "      <td>9200.00</td>\n",
              "      <td>0.405769</td>\n",
              "      <td>0.117750</td>\n",
              "      <td>10803.225</td>\n",
              "      <td>3601.075000</td>\n",
              "      <td>0.158827</td>\n",
              "      <td>-0.094231</td>\n",
              "      <td>-0.184102</td>\n",
              "      <td>0.276480</td>\n",
              "    </tr>\n",
              "    <tr>\n",
              "      <th>1</th>\n",
              "      <td>1</td>\n",
              "      <td>1</td>\n",
              "      <td>1</td>\n",
              "      <td>3566514</td>\n",
              "      <td>7753.00</td>\n",
              "      <td>465.0</td>\n",
              "      <td>772.0</td>\n",
              "      <td>3689.00</td>\n",
              "      <td>1365.0</td>\n",
              "      <td>63421.0</td>\n",
              "      <td>1462.00</td>\n",
              "      <td>5826.00</td>\n",
              "      <td>0.367449</td>\n",
              "      <td>0.121537</td>\n",
              "      <td>8102.250</td>\n",
              "      <td>2700.750000</td>\n",
              "      <td>0.170338</td>\n",
              "      <td>-0.132551</td>\n",
              "      <td>-0.207791</td>\n",
              "      <td>0.311014</td>\n",
              "    </tr>\n",
              "    <tr>\n",
              "      <th>2</th>\n",
              "      <td>2</td>\n",
              "      <td>2</td>\n",
              "      <td>2</td>\n",
              "      <td>3566534</td>\n",
              "      <td>77432.75</td>\n",
              "      <td>4191.0</td>\n",
              "      <td>5536.0</td>\n",
              "      <td>24224.75</td>\n",
              "      <td>3931.0</td>\n",
              "      <td>-191620.6</td>\n",
              "      <td>39550.00</td>\n",
              "      <td>33691.75</td>\n",
              "      <td>-0.703301</td>\n",
              "      <td>-0.913075</td>\n",
              "      <td>-125337.900</td>\n",
              "      <td>-41779.300000</td>\n",
              "      <td>0.872125</td>\n",
              "      <td>-1.203301</td>\n",
              "      <td>-1.125590</td>\n",
              "      <td>2.416376</td>\n",
              "    </tr>\n",
              "    <tr>\n",
              "      <th>3</th>\n",
              "      <td>3</td>\n",
              "      <td>3</td>\n",
              "      <td>3</td>\n",
              "      <td>3566544</td>\n",
              "      <td>16488.75</td>\n",
              "      <td>1151.0</td>\n",
              "      <td>3351.0</td>\n",
              "      <td>2593.00</td>\n",
              "      <td>3640.0</td>\n",
              "      <td>136908.0</td>\n",
              "      <td>5753.75</td>\n",
              "      <td>9584.00</td>\n",
              "      <td>0.280013</td>\n",
              "      <td>0.201734</td>\n",
              "      <td>17738.250</td>\n",
              "      <td>5912.750000</td>\n",
              "      <td>0.172751</td>\n",
              "      <td>-0.219987</td>\n",
              "      <td>-0.131894</td>\n",
              "      <td>0.318253</td>\n",
              "    </tr>\n",
              "    <tr>\n",
              "      <th>4</th>\n",
              "      <td>4</td>\n",
              "      <td>4</td>\n",
              "      <td>4</td>\n",
              "      <td>3566624</td>\n",
              "      <td>8518.30</td>\n",
              "      <td>0.0</td>\n",
              "      <td>2805.0</td>\n",
              "      <td>2733.50</td>\n",
              "      <td>1885.0</td>\n",
              "      <td>54347.4</td>\n",
              "      <td>1094.80</td>\n",
              "      <td>7423.50</td>\n",
              "      <td>0.546374</td>\n",
              "      <td>0.080578</td>\n",
              "      <td>5068.550</td>\n",
              "      <td>1689.516667</td>\n",
              "      <td>0.124349</td>\n",
              "      <td>0.046374</td>\n",
              "      <td>-0.219422</td>\n",
              "      <td>0.173048</td>\n",
              "    </tr>\n",
              "  </tbody>\n",
              "</table>\n",
              "</div>"
            ],
            "text/plain": [
              "   Unnamed: 0  Unnamed: 0.1  Unnamed: 0.1.1  ...  50%_delta  30%_delta  20%_delta\n",
              "0           0             0               0  ...  -0.094231  -0.184102   0.276480\n",
              "1           1             1               1  ...  -0.132551  -0.207791   0.311014\n",
              "2           2             2               2  ...  -1.203301  -1.125590   2.416376\n",
              "3           3             3               3  ...  -0.219987  -0.131894   0.318253\n",
              "4           4             4               4  ...   0.046374  -0.219422   0.173048\n",
              "\n",
              "[5 rows x 20 columns]"
            ]
          },
          "metadata": {
            "tags": []
          },
          "execution_count": 9
        }
      ]
    },
    {
      "cell_type": "code",
      "metadata": {
        "id": "VEa9_8TfbVwo",
        "colab_type": "code",
        "outputId": "3431027f-5ab0-4016-fa5b-03b123c86b60",
        "colab": {
          "base_uri": "https://localhost:8080/",
          "height": 170
        }
      },
      "source": [
        "df['50%'].describe()"
      ],
      "execution_count": 10,
      "outputs": [
        {
          "output_type": "execute_result",
          "data": {
            "text/plain": [
              "count    6004.000000\n",
              "mean             inf\n",
              "std              NaN\n",
              "min        -5.101450\n",
              "25%         0.225918\n",
              "50%         0.396943\n",
              "75%         0.656488\n",
              "max              inf\n",
              "Name: 50%, dtype: float64"
            ]
          },
          "metadata": {
            "tags": []
          },
          "execution_count": 10
        }
      ]
    },
    {
      "cell_type": "code",
      "metadata": {
        "id": "sX6KZdpibVw4",
        "colab_type": "code",
        "colab": {}
      },
      "source": [
        "df = df.loc[(df!=0).all(1)]"
      ],
      "execution_count": 0,
      "outputs": []
    },
    {
      "cell_type": "code",
      "metadata": {
        "id": "8S_cgID3bVxC",
        "colab_type": "code",
        "outputId": "22d88104-dd9f-4800-df0d-5aa1909172da",
        "colab": {
          "base_uri": "https://localhost:8080/",
          "height": 170
        }
      },
      "source": [
        "df['20%'].describe()"
      ],
      "execution_count": 12,
      "outputs": [
        {
          "output_type": "execute_result",
          "data": {
            "text/plain": [
              "count    4788.000000\n",
              "mean       -1.782543\n",
              "std       121.485582\n",
              "min     -8405.666667\n",
              "25%         0.026927\n",
              "50%         0.138304\n",
              "75%         0.219365\n",
              "max         4.394068\n",
              "Name: 20%, dtype: float64"
            ]
          },
          "metadata": {
            "tags": []
          },
          "execution_count": 12
        }
      ]
    },
    {
      "cell_type": "code",
      "metadata": {
        "id": "_WkONPvFbVxW",
        "colab_type": "code",
        "outputId": "2f11733c-27da-425d-fd9c-a679d9669c5d",
        "colab": {
          "base_uri": "https://localhost:8080/",
          "height": 170
        }
      },
      "source": [
        "df['30%'].describe()"
      ],
      "execution_count": 13,
      "outputs": [
        {
          "output_type": "execute_result",
          "data": {
            "text/plain": [
              "count    4788.000000\n",
              "mean        2.331211\n",
              "std       138.744073\n",
              "min       -10.285480\n",
              "25%         0.093221\n",
              "50%         0.163901\n",
              "75%         0.281580\n",
              "max      9600.000000\n",
              "Name: 30%, dtype: float64"
            ]
          },
          "metadata": {
            "tags": []
          },
          "execution_count": 13
        }
      ]
    },
    {
      "cell_type": "markdown",
      "metadata": {
        "id": "1fKeO4PHbVyM",
        "colab_type": "text"
      },
      "source": [
        "##Model##\n"
      ]
    },
    {
      "cell_type": "code",
      "metadata": {
        "id": "Qx4_gdmhbVyU",
        "colab_type": "code",
        "colab": {}
      },
      "source": [
        "features = ['Income After Taxes','Total expenses','Necessities']\n",
        "\n",
        "target = '50%'\n",
        "\n",
        "X = df[features]\n",
        "y = df[target]\n",
        "\n",
        "\n",
        "X_train, X_test, y_train, y_test = train_test_split(X, y, test_size = 0.30, random_state = 42)"
      ],
      "execution_count": 0,
      "outputs": []
    },
    {
      "cell_type": "code",
      "metadata": {
        "id": "5qrmJhxVbVyh",
        "colab_type": "code",
        "outputId": "42322e47-8ef8-4e69-d29a-b6f02b357535",
        "colab": {
          "base_uri": "https://localhost:8080/",
          "height": 34
        }
      },
      "source": [
        "model = LinearRegression()\n",
        "model.fit(X_train, y_train)\n",
        "y_pred = np.exp(model.predict(X_test)) # Apply exponential function (inverse of natural log) to the predictions\n",
        "print('R^2', model.score(X_test, y_pred))"
      ],
      "execution_count": 15,
      "outputs": [
        {
          "output_type": "stream",
          "text": [
            "R^2 0.005535683014293191\n"
          ],
          "name": "stdout"
        }
      ]
    },
    {
      "cell_type": "code",
      "metadata": {
        "id": "PB3Xf_F6bVyv",
        "colab_type": "code",
        "colab": {
          "base_uri": "https://localhost:8080/",
          "height": 34
        },
        "outputId": "20c083e6-7b99-4a99-9489-c47041b06f58"
      },
      "source": [
        "''' Needs parameter tuning and some more input to train appropriatley but is a good start to the model'''"
      ],
      "execution_count": 16,
      "outputs": [
        {
          "output_type": "execute_result",
          "data": {
            "text/plain": [
              "' Needs parameter tuning and some more input to train appropriatley but is a good start to the model'"
            ]
          },
          "metadata": {
            "tags": []
          },
          "execution_count": 16
        }
      ]
    },
    {
      "cell_type": "code",
      "metadata": {
        "id": "5fgVcqlDRYH4",
        "colab_type": "code",
        "outputId": "ceb1446a-d6c7-436a-8bee-3a2d8c1480e0",
        "colab": {
          "base_uri": "https://localhost:8080/",
          "height": 136
        }
      },
      "source": [
        "coeff_df = pd.Series(model.coef_, features)\n",
        "print('The coefficients are:\\n', coeff_df)\n",
        "print('The intercept is:\\n', model.intercept_)"
      ],
      "execution_count": 18,
      "outputs": [
        {
          "output_type": "stream",
          "text": [
            "The coefficients are:\n",
            " Income After Taxes   -0.000012\n",
            "Total expenses       -0.000003\n",
            "Necessities           0.000072\n",
            "dtype: float64\n",
            "The intercept is:\n",
            " 1.1225886458542695\n"
          ],
          "name": "stdout"
        }
      ]
    }
  ]
}